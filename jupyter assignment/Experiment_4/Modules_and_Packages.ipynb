{
 "cells": [
  {
   "cell_type": "markdown",
   "id": "13fa12e8",
   "metadata": {},
   "source": [
    "### 1.Inventory Management System You're building a simple inventory management system for a small business. To organize the code better, you want to separate the product logic and sales logic into different modules.\n"
   ]
  },
  {
   "cell_type": "code",
   "execution_count": null,
   "id": "7713e655",
   "metadata": {},
   "outputs": [],
   "source": []
  },
  {
   "cell_type": "markdown",
   "id": "0d670cf3",
   "metadata": {},
   "source": [
    "### 2.Scientific Calculator You’re building a scientific calculator app. To keep the code clean, math operations are split into separate modules within a calculator package.\n"
   ]
  },
  {
   "cell_type": "code",
   "execution_count": null,
   "id": "27b82e30",
   "metadata": {},
   "outputs": [],
   "source": []
  }
 ],
 "metadata": {
  "kernelspec": {
   "display_name": "Python 3",
   "language": "python",
   "name": "python3"
  },
  "language_info": {
   "codemirror_mode": {
    "name": "ipython",
    "version": 3
   },
   "file_extension": ".py",
   "mimetype": "text/x-python",
   "name": "python",
   "nbconvert_exporter": "python",
   "pygments_lexer": "ipython3",
   "version": "3.12.10"
  }
 },
 "nbformat": 4,
 "nbformat_minor": 5
}
