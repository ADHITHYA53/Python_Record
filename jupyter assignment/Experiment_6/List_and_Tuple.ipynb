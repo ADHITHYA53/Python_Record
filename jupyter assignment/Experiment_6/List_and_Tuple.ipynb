{
 "cells": [
  {
   "cell_type": "markdown",
   "id": "b514e1bb",
   "metadata": {},
   "source": [
    "### 1. Write a program to create a list and perform the following operations: append, insert, delete, and update an element.\n",
    "\n"
   ]
  },
  {
   "cell_type": "code",
   "execution_count": 1,
   "id": "4c7aa54b",
   "metadata": {},
   "outputs": [
    {
     "name": "stdout",
     "output_type": "stream",
     "text": [
      "After creating list : []\n",
      "After appending elements : [1, 2, 3]\n",
      "After inserting elements : [1, 2, 3, 4]\n",
      "After deleting elements : [1, 3, 4]\n",
      "After updating elements : [7, 3, 4]\n"
     ]
    }
   ],
   "source": [
    "a=list()  \n",
    "print(\"After creating list :\",a)  \n",
    "a.append(1) \n",
    "a.append(2)  \n",
    "a.append(3)\n",
    "print(\"After appending elements :\",a) \n",
    "a.insert(3,4)  \n",
    "print(\"After inserting elements :\",a) \n",
    "del a[1]  \n",
    "print(\"After deleting elements :\",a) \n",
    "a[0]=7  \n",
    "print(\"After updating elements :\",a) "
   ]
  },
  {
   "cell_type": "markdown",
   "id": "30525483",
   "metadata": {},
   "source": [
    "### 2.Write a program to create a list of integers and print the largest, smallest, and average of the list elements.\n"
   ]
  },
  {
   "cell_type": "code",
   "execution_count": 2,
   "id": "2dca0490",
   "metadata": {},
   "outputs": [
    {
     "name": "stdout",
     "output_type": "stream",
     "text": [
      "List : [11, 12, 13, 14, 15]\n",
      "Smallest element : 11\n",
      "Largest element : 15\n",
      "Average : 13.0\n"
     ]
    }
   ],
   "source": [
    "l=[11,12,13,14,15] \n",
    "print(\"List :\",l)  \n",
    "print(\"Smallest element :\",min(l)) \n",
    "print(\"Largest element :\",max(l)) \n",
    "print(\"Average :\",sum(l)/len(l))  "
   ]
  },
  {
   "cell_type": "markdown",
   "id": "cc31ce25",
   "metadata": {},
   "source": [
    "### 3.Write a program to generate a list of squares of the first 10 natural numbers using list comprehension.\n"
   ]
  },
  {
   "cell_type": "code",
   "execution_count": null,
   "id": "a1531d94",
   "metadata": {},
   "outputs": [
    {
     "name": "stdout",
     "output_type": "stream",
     "text": [
      "List of square elements : [1, 4, 9, 16, 25, 36, 49, 64, 81, 100]\n"
     ]
    }
   ],
   "source": [
    "sq=[i**2 for i in range(1,11)] \n",
    "print(\"List of square elements :\",sq)  "
   ]
  },
  {
   "cell_type": "markdown",
   "id": "f3099800",
   "metadata": {},
   "source": [
    "### 4.Write a program to create a list of student names and sort them in ascending and descending order"
   ]
  },
  {
   "cell_type": "code",
   "execution_count": null,
   "id": "cdb9a39d",
   "metadata": {},
   "outputs": [
    {
     "name": "stdout",
     "output_type": "stream",
     "text": [
      "Student list : ['deva', 'dharam', 'adhi']\n",
      "Student list in ascending order : ['adhi', 'deva', 'dharam']\n",
      "Student list in descending order : ['dharam', 'deva', 'adhi']\n"
     ]
    }
   ],
   "source": [
    "std_lst=[] \n",
    "n=int(input(\"Enter the number for students:\"))\n",
    "for i in range(n):    \n",
    "    name=input(\"Enter the name :\")\n",
    "    std_lst.append(name)  \n",
    "print(\"Student list :\",std_lst) \n",
    "asc=sorted(std_lst)  \n",
    "print(\"Student list in ascending order :\",asc) \n",
    "des=sorted(std_lst,reverse=True)  \n",
    "print(\"Student list in descending order :\",des) "
   ]
  },
  {
   "cell_type": "markdown",
   "id": "51ea4b00",
   "metadata": {},
   "source": [
    "### 5.Write a program to perform linear search and binary search on a list of numbers\n"
   ]
  },
  {
   "cell_type": "code",
   "execution_count": null,
   "id": "bc096a1e",
   "metadata": {},
   "outputs": [
    {
     "name": "stdout",
     "output_type": "stream",
     "text": [
      "List : [1, 2, 6, 3, 4]\n",
      "Linear search :\n",
      "Element is found at  2\n",
      "Binary search :\n",
      "The element is found at 4\n"
     ]
    }
   ],
   "source": [
    "lst=[] \n",
    "n=int(input(\"Enter the number of elements :\"))\n",
    "for i in range(n):\n",
    "     elements=int(input(\"Enter the list element :\"))\n",
    "     lst.append(elements) \n",
    "target=int(input(\"Enter the target element :\")) \n",
    "print(\"List :\",lst) \n",
    "print(\"Linear search :\") \n",
    "for i in range(len(lst)):     \n",
    "     if lst[i]==target:\n",
    "         print(\"Element is found at \",i)  \n",
    "         break \n",
    "else:     \n",
    "     print(\"Element is not found.\") \n",
    "print(\"Binary search :\")  \n",
    "lst=sorted(lst) \n",
    "low=0 \n",
    "high=len(lst)-1 \n",
    "while low<=high:     \n",
    "     mid=(low+high)//2\n",
    "     if lst[mid]==target: \n",
    "            print(\"The element is found at\",mid)\n",
    "            break\n",
    "     elif lst[mid]<target:\n",
    "        low=mid+1     \n",
    "     else:         \n",
    "        high=mid-1 \n",
    "else:\n",
    "     print(\"Element is not found.\") "
   ]
  },
  {
   "cell_type": "markdown",
   "id": "d6809ae4",
   "metadata": {},
   "source": [
    "### 6.Given a list of numbers, create a new list containing the squares of only the odd numbers from the original list. (Use List comprehension)\t\n"
   ]
  },
  {
   "cell_type": "code",
   "execution_count": null,
   "id": "576ac6ab",
   "metadata": {},
   "outputs": [
    {
     "name": "stdout",
     "output_type": "stream",
     "text": [
      "Given list : [1, 2, 3, 4, 5]\n",
      "Odd square list : [1, 9, 25]\n"
     ]
    }
   ],
   "source": [
    "num_lst=[] \n",
    "n=int(input(\"Enter the number of elements :\"))\n",
    "for i in range(n): \n",
    "    elements=int(input(\"Enter the list element :\")) \n",
    "    num_lst.append(elements) \n",
    "print(\"Given list :\",num_lst) \n",
    "odd_lst=[i**2 for i in num_lst if i%2!=0]  \n",
    "print(\"Odd square list :\",odd_lst)  "
   ]
  },
  {
   "cell_type": "markdown",
   "id": "650a66c6",
   "metadata": {},
   "source": [
    "### 7.Write a program to swap two values using tuple unpacking.\n"
   ]
  },
  {
   "cell_type": "code",
   "execution_count": 3,
   "id": "271f1f03",
   "metadata": {},
   "outputs": [
    {
     "name": "stdout",
     "output_type": "stream",
     "text": [
      "Before swaping :\n",
      "a=1\n",
      "b=2\n",
      "After swaping :\n",
      "a=2\n",
      "b=1\n"
     ]
    }
   ],
   "source": [
    "a=int(input(\"Enter the first number :\")) \n",
    "b=int(input(\"Enter the second number :\"))  \n",
    "print(f\"Before swaping :\\na={a}\\nb={b}\") \n",
    "a,b=b,a\n",
    "print(f\"After swaping :\\na={a}\\nb={b}\") "
   ]
  },
  {
   "cell_type": "markdown",
   "id": "303f83a8",
   "metadata": {},
   "source": [
    "### 8.Write a program to create a list of tuples containing student names and their marks, and print the names of students who scored more than 90.\n"
   ]
  },
  {
   "cell_type": "code",
   "execution_count": null,
   "id": "b0b8f510",
   "metadata": {},
   "outputs": [
    {
     "name": "stdout",
     "output_type": "stream",
     "text": [
      "List with marks : [('adhi', 78.0), ('antony', 89.0), ('daniel', 91.0)]\n",
      "students who got more than 90 :\n",
      "student name :  daniel\n"
     ]
    }
   ],
   "source": [
    "mark_lst=[] \n",
    "n=int(input(\"Enter the number students :\"))\n",
    "for i in range(n):  \n",
    "    name=input(\"Enter the student name :\")\n",
    "    mark=float(input(\"Enter the mark :\"))\n",
    "    mark_lst.append((name,mark)) \n",
    "print(\"List with marks :\",mark_lst) \n",
    "print(\"students who got more than 90 \") \n",
    "for score in mark_lst:  \n",
    "    if score[1]>=90:         \n",
    "        print(\"student name : \",score[0])"
   ]
  },
  {
   "cell_type": "markdown",
   "id": "8c93ce35",
   "metadata": {},
   "source": [
    "### 9.A sensor returns a list of readings. Negative readings are invalid and should be replaced by zero and Use list comprehension to replace all negative numbers in a list with 0.\n"
   ]
  },
  {
   "cell_type": "code",
   "execution_count": null,
   "id": "cf00dd38",
   "metadata": {},
   "outputs": [
    {
     "name": "stdout",
     "output_type": "stream",
     "text": [
      "Before replacing with 0 : [-1, 2, -3, 4]\n",
      "After replacing with 0 : [0, 2, 0, 4]\n"
     ]
    }
   ],
   "source": [
    "lst=[] \n",
    "n=int(input(\"Enter the number of readings :\"))\n",
    "for i in range(n):  \n",
    "    readings=int(input(\"Enter the reading :\"))   \n",
    "    lst.append(readings) \n",
    "print(\"Before replacing with 0 :\",lst) \n",
    "lst=[0 if i<0 else i for i in lst]  \n",
    "print(\"After replacing with 0 :\",lst) "
   ]
  },
  {
   "cell_type": "markdown",
   "id": "0688c5e4",
   "metadata": {},
   "source": [
    "### 10.Create a system to process customer orders. Each order can contain multiple items (represented as strings). The system should allow adding items to an order, removing items, displaying the current order, and calculating the total number of items in the order. You could extend this by associating quantities with each item (e.g., a list of tuples: [(\"Laptop\", 1), (\"Mouse\", 2)]).\n"
   ]
  },
  {
   "cell_type": "code",
   "execution_count": 26,
   "id": "f2e38b35",
   "metadata": {},
   "outputs": [
    {
     "name": "stdout",
     "output_type": "stream",
     "text": [
      "Product added successfully\n",
      "Product added successfully\n",
      "Name\tNo. of items:\n",
      "laptop\t10\n",
      "mouse\t30\n",
      "Product removed successfully\n",
      "Item added to order\n",
      "Name\tNo. of items:\n",
      "laptop\t5\n",
      "Total items added: 5\n",
      "Thanks for coming.\n"
     ]
    }
   ],
   "source": [
    "products = []\n",
    "order = []\n",
    "total_items = 0\n",
    "\n",
    "while True:\n",
    "    ch = int(input(\"1. Add product\\n2. Remove product\\n3. Display product\\n4. Add product to order\\n5. Exit\\nEnter choice: \"))\n",
    "    \n",
    "    if ch == 1:\n",
    "        name = input(\"Enter the product name: \")\n",
    "        count = int(input(\"Enter Number of items: \"))\n",
    "        products.append((name, count))\n",
    "        print(\"Product added successfully\")\n",
    "\n",
    "    elif ch == 2:\n",
    "        remove = input(\"Enter the product to remove: \")\n",
    "        found = False\n",
    "        for i in products:\n",
    "            if i[0].lower() == remove.lower():\n",
    "                products.remove(i)\n",
    "                print(\"Product removed successfully\")\n",
    "                found = True\n",
    "                break\n",
    "        if not found:\n",
    "            print(\"Product not found\")\n",
    "\n",
    "    elif ch == 3:\n",
    "        print(\"Name\\tNo. of items:\")\n",
    "        for i in products:\n",
    "            print(f\"{i[0]}\\t{i[1]}\")\n",
    "\n",
    "    elif ch == 4:\n",
    "        while True:\n",
    "            ch_item = input(\"Enter the name of item to add (0 to show added items): \")\n",
    "            if ch_item == '0':\n",
    "                if len(order) == 0:\n",
    "                    print(\"No items are added\")\n",
    "                else:\n",
    "                    print(\"Name\\tNo. of items:\")\n",
    "                    for i in order:\n",
    "                        print(f\"{i[0]}\\t{i[1]}\")\n",
    "                        total_items += i[1]\n",
    "                    print(\"Total items added:\", total_items)\n",
    "                break\n",
    "\n",
    "            found = False\n",
    "            for j in range(len(products)):\n",
    "                if products[j][0].lower() == ch_item.lower():\n",
    "                    no_items = int(input(\"Enter the number of items to add: \"))\n",
    "                    if no_items <= products[j][1]:\n",
    "                        updated_count = products[j][1] - no_items\n",
    "                        products[j] = (products[j][0], updated_count)\n",
    "                        order.append((products[j][0], no_items))\n",
    "                        print(\"Item added to order\")\n",
    "                    else:\n",
    "                        print(\"Not enough items available\")\n",
    "                    found = True\n",
    "                    break\n",
    "            if not found:\n",
    "                print(\"Product not found\")\n",
    "\n",
    "    elif ch == 5:\n",
    "        print(\"Thanks for coming.\")\n",
    "        break\n",
    "\n",
    "    else:\n",
    "        print(\"Invalid choice.\")\n"
   ]
  },
  {
   "cell_type": "markdown",
   "id": "c2894767",
   "metadata": {},
   "source": [
    "### 11.Given a list of numbers and a target sum, find all unique pairs of numbers in the list that add up to the target sum.\n"
   ]
  },
  {
   "cell_type": "code",
   "execution_count": 7,
   "id": "566ae67e",
   "metadata": {},
   "outputs": [
    {
     "name": "stdout",
     "output_type": "stream",
     "text": [
      "Unique pairs are: []\n"
     ]
    }
   ],
   "source": [
    "def find_pairs(nums, target):\n",
    "    seen = set()\n",
    "    pairs = set()\n",
    "    for num in nums:\n",
    "        complement = target - num\n",
    "        if complement in seen:\n",
    "            pairs.add(tuple(sorted((num, complement))))\n",
    "        seen.add(num)\n",
    "    return list(pairs)\n",
    "nums = []\n",
    "n = int(input(\"Enter the number of elements: \"))\n",
    "for i in range(n):\n",
    "    num=int(input(\"Enter a number: \"))\n",
    "    nums.append(num)\n",
    "target = int(input(\"Enter the target number: \"))\n",
    "print(\"Unique pairs are:\", find_pairs(nums, target))\n"
   ]
  },
  {
   "cell_type": "markdown",
   "id": "45d5bbc8",
   "metadata": {},
   "source": [
    "### 12.Implement a function that performs Run-Length Encoding on a list of characters. RLE compresses data by replacing consecutive identical characters with the character and its count. For example, [\"a\", \"a\", \"a\", \"b\", \"b\", \"c\"] would be encoded as [(\"a\", 3), (\"b\", 2), (\"c\", 1)]. \n"
   ]
  },
  {
   "cell_type": "code",
   "execution_count": 13,
   "id": "c5f2d95c",
   "metadata": {},
   "outputs": [
    {
     "name": "stdout",
     "output_type": "stream",
     "text": [
      "Before encoding: ['a', 'a', 'b', 'b', 'c']\n",
      "After encoding: [('a', 2), ('b', 2), ('c', 1)]\n"
     ]
    }
   ],
   "source": [
    "char_lst = []\n",
    "num=int(input(\"Enter the number of inputs: \"))\n",
    "for i in range(num):\n",
    "    char=input(\"Enter the character: \")\n",
    "    char_lst.append(char)\n",
    "print(\"Before encoding:\",char_lst)\n",
    "encod_lst = []\n",
    "current =char_lst[0]\n",
    "c = 1\n",
    "for i in char_lst[1:]:\n",
    "    if i == current:\n",
    "        c += 1\n",
    "    else:\n",
    "        encod_lst.append((current, c))\n",
    "        current = i\n",
    "        c = 1\n",
    "encod_lst.append((current, c))\n",
    "print(\"After encoding:\", encod_lst)\n"
   ]
  },
  {
   "cell_type": "markdown",
   "id": "c60878f8",
   "metadata": {},
   "source": [
    "### 13.Scenario:\n",
    "### Given a matrix and need to transpose it and  Use nested list comprehension to transpose a matrix.\n",
    "### Input:\n",
    "#### matrix = [[1, 2, 3],[4, 5, 6]]\n",
    "### Output:\n",
    "#### [[1, 4],[2, 5],[3, 6]]\n",
    "\n"
   ]
  },
  {
   "cell_type": "code",
   "execution_count": null,
   "id": "cd2454bd",
   "metadata": {},
   "outputs": [
    {
     "name": "stdout",
     "output_type": "stream",
     "text": [
      "Given matrix:\n",
      "1 2 3 \n",
      "4 5 6 \n",
      "Transpose matrix:\n",
      "1 4 \n",
      "2 5 \n",
      "3 6 \n"
     ]
    }
   ],
   "source": [
    "matrix = []\n",
    "r = int(input(\"Enter the number of rows: \"))\n",
    "c = int(input(\"Enter the number of columns: \"))\n",
    "for i in range(r):\n",
    "    row = []\n",
    "    for j in range(c):\n",
    "        val = int(input(f\"Enter the element at ({i+1}, {j+1}): \"))\n",
    "        row.append(val)\n",
    "    matrix.append(row)\n",
    "print(\"Given matrix:\")\n",
    "for i in range(r):\n",
    "    for j in range(c):\n",
    "        print(matrix[i][j], end=\" \")\n",
    "    print()\n",
    "print(\"Transpose matrix:\")\n",
    "for i in range(c):\n",
    "    for j in range(r):\n",
    "        print(matrix[j][i], end=\" \")\n",
    "    print()\n"
   ]
  },
  {
   "cell_type": "markdown",
   "id": "21232266",
   "metadata": {},
   "source": [
    "### 14.Given a list of strings, extract digits from each string and store them in a new list.\n",
    "### Input:[\"abc123\", \"hello99\"] → Output: [\"123\", \"99\"]\n",
    "\n",
    "\n"
   ]
  },
  {
   "cell_type": "code",
   "execution_count": null,
   "id": "82cfcda3",
   "metadata": {},
   "outputs": [
    {
     "name": "stdout",
     "output_type": "stream",
     "text": [
      "Given list is: ['adc123', 'hello10']\n",
      "After modification: ['123', '10']\n"
     ]
    }
   ],
   "source": [
    "ip_lst = []\n",
    "n=int(input(\"Enter the number of elements: \"))\n",
    "for i in range(n):\n",
    "    element=input(\"Enter the element: \")\n",
    "    ip_lst.append(element)\n",
    "print(\"Given list is:\",ip_lst)\n",
    "ext_lst = []\n",
    "for i in ip_lst:\n",
    "    s = \"\"\n",
    "    for j in i:\n",
    "        if j.isdigit():\n",
    "            s += j\n",
    "    ext_lst.append(s)\n",
    "print(\"After extraction:\", ext_lst)\n"
   ]
  }
 ],
 "metadata": {
  "kernelspec": {
   "display_name": "Python 3",
   "language": "python",
   "name": "python3"
  },
  "language_info": {
   "codemirror_mode": {
    "name": "ipython",
    "version": 3
   },
   "file_extension": ".py",
   "mimetype": "text/x-python",
   "name": "python",
   "nbconvert_exporter": "python",
   "pygments_lexer": "ipython3",
   "version": "3.12.10"
  }
 },
 "nbformat": 4,
 "nbformat_minor": 5
}
