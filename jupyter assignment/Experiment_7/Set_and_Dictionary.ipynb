{
 "cells": [
  {
   "cell_type": "markdown",
   "id": "6f89288b",
   "metadata": {},
   "source": [
    "### 1.Write a program to create a set and perform the following operations: Add an element, remove an element, check for membership, and clear the set."
   ]
  },
  {
   "cell_type": "code",
   "execution_count": null,
   "id": "103f1a35",
   "metadata": {},
   "outputs": [
    {
     "name": "stdout",
     "output_type": "stream",
     "text": [
      "Creating a set :  set()\n",
      "elements in set :  {2, 3}\n",
      "after removing :  {3}\n",
      "checking the element True\n",
      "After clearinng the set set()\n"
     ]
    }
   ],
   "source": [
    "a=set()\n",
    "print(\"Creating a set : \",a)\n",
    "a.add(2)\n",
    "a.add(3)\n",
    "print(\"elements in set : \",a)\n",
    "a.remove(2)\n",
    "print(\"after removing : \",a)\n",
    "b=3 in a\n",
    "print(\"checking the element\",b) \n",
    "a.clear()\n",
    "print(\"After clearinng the set\",a)     "
   ]
  },
  {
   "cell_type": "markdown",
   "id": "0fc2b9eb",
   "metadata": {},
   "source": [
    "### 2.Write a program to take two sets of integers and perform the following operations: Union, intersection, difference, and symmetric difference.\n"
   ]
  },
  {
   "cell_type": "code",
   "execution_count": 10,
   "id": "8907a593",
   "metadata": {},
   "outputs": [
    {
     "name": "stdout",
     "output_type": "stream",
     "text": [
      "set 1 :  {1, 44, 333, 22, 56}\n",
      "set 2 :  {1, 59, 44, 28}\n",
      "union :  {1, 44, 333, 22, 56, 59, 28}\n",
      "intersection :  {1, 44}\n",
      "difference :  {56, 333, 22}\n",
      "symmertric difference :  {333, 22, 56, 59, 28}\n"
     ]
    }
   ],
   "source": [
    "a=set()\n",
    "b=set()\n",
    "for i in range(int(input(\"Enter the number of elements to be in set 1 : \"))):\n",
    "    c=int(input(\"enter the elements for set 1 :\"))\n",
    "    a.add(c)\n",
    "for i in range(int(input(\"Enter the number of elements to be in set 2 : \"))):\n",
    "    d=int(input(\"enter the elements for set 2 :\"))\n",
    "    b.add(d)\n",
    "print(\"set 1 : \",a)\n",
    "print(\"set 2 : \",b)\n",
    "print(\"union : \",a.union(b))\n",
    "print(\"intersection : \",a.intersection(b))\n",
    "print(\"difference : \",a.difference(b))\n",
    "print(\"symmertric difference : \",a.symmetric_difference(b))"
   ]
  },
  {
   "cell_type": "markdown",
   "id": "dc455b56",
   "metadata": {},
   "source": [
    "### 3.Write a program to count the number of unique words in a given sentence using a set."
   ]
  },
  {
   "cell_type": "code",
   "execution_count": 2,
   "id": "224bdf8a",
   "metadata": {},
   "outputs": [
    {
     "name": "stdout",
     "output_type": "stream",
     "text": [
      "unique words :  5\n"
     ]
    }
   ],
   "source": [
    "import string \n",
    "a=input(\"Enter the sentence : \")\n",
    "b=a.lower()\n",
    "for p in string.punctuation:\n",
    "    b = b.replace(p,\"\")\n",
    "c=b.split()    \n",
    "u=set(c)\n",
    "print(\"unique words : \",len(u))"
   ]
  },
  {
   "cell_type": "markdown",
   "id": "818741bf",
   "metadata": {},
   "source": [
    "### 4.Write a program to create a set of even numbers from 1 to 20 using set comprehension.\n"
   ]
  },
  {
   "cell_type": "code",
   "execution_count": 33,
   "id": "d08cac81",
   "metadata": {},
   "outputs": [
    {
     "name": "stdout",
     "output_type": "stream",
     "text": [
      "even numbers :  {2, 4, 6, 8, 10, 12, 14, 16, 18, 20}\n"
     ]
    }
   ],
   "source": [
    "even={i for i in range(1,21) if i%2==0}\n",
    "print(\"even numbers : \",even)"
   ]
  },
  {
   "cell_type": "markdown",
   "id": "4d561a08",
   "metadata": {},
   "source": [
    "### 5.Write a program to create a dictionary with names and ages of 5 people and print the dictionary.\n"
   ]
  },
  {
   "cell_type": "code",
   "execution_count": 39,
   "id": "94398831",
   "metadata": {},
   "outputs": [
    {
     "name": "stdout",
     "output_type": "stream",
     "text": [
      "Dictionary :  {'Adhi': 10, 'Abdul': 20, 'Antony': 30, 'Deva': 40, 'Dharam': 50}\n"
     ]
    }
   ],
   "source": [
    "a=dict()\n",
    "n=int(input(\"Enter the number of people : \"))\n",
    "for i in range(n):\n",
    "    name=input(f\"Enter the name of the person {i+1} : \")\n",
    "    age=int(input(\"Enter the age : \"))\n",
    "    a[name]=age\n",
    "print(\"Dictionary : \",a)"
   ]
  },
  {
   "cell_type": "markdown",
   "id": "2bbf057e",
   "metadata": {},
   "source": [
    "### 6.Write a program to search for a key in a dictionary and print its value if found.\n"
   ]
  },
  {
   "cell_type": "code",
   "execution_count": 1,
   "id": "b135da50",
   "metadata": {},
   "outputs": [
    {
     "name": "stdout",
     "output_type": "stream",
     "text": [
      "Dictionary :  {'name': 'Adhithya', 'age': 19, 'city': 'Coimbatore'}\n",
      "Value: Adhithya\n"
     ]
    }
   ],
   "source": [
    "my_dict = {'name': 'Adhithya','age':19,'city':'Coimbatore'}\n",
    "print(\"Dictionary : \",my_dict)\n",
    "search = input(\"Enter the key to search: \")\n",
    "if search in my_dict:\n",
    "    print(f\"Value: {my_dict[search]}\")\n",
    "else:\n",
    "    print(\"Key not found in the dictionary.\")\n"
   ]
  },
  {
   "cell_type": "markdown",
   "id": "f70ced99",
   "metadata": {},
   "source": [
    "### 7.Write a program to update a value in a dictionary and remove a key-value pair.\n"
   ]
  },
  {
   "cell_type": "code",
   "execution_count": 13,
   "id": "bd03a695",
   "metadata": {},
   "outputs": [
    {
     "name": "stdout",
     "output_type": "stream",
     "text": [
      "Original Dictionary: {'name': 'Adhithya', 'age': 19, 'city': 'Coimbatore'}\n",
      "Updated 'name' to 'Dharam\n",
      "{'name': 'Dharam', 'age': 19, 'city': 'Coimbatore'}\n",
      "Removed key 'age' from the dictionary\n",
      "Updated Dictionary: {'name': 'Dharam', 'city': 'Coimbatore'}\n"
     ]
    }
   ],
   "source": [
    "my_dict = {'name': 'Adhithya','age':19,'city':'Coimbatore'}\n",
    "print(\"Original Dictionary:\", my_dict)\n",
    "update = input(\"Enter the key to update: \")\n",
    "if update in my_dict:\n",
    "    new_value = input(\"Enter the new value: \")\n",
    "    my_dict[update] = new_value\n",
    "    print(f\"Updated '{update}' to '{new_value}\")\n",
    "    print(my_dict)\n",
    "else:\n",
    "    print(\"Key not found. Cannot update\")\n",
    "remove = input(\"Enter the key to remove: \")\n",
    "if remove in my_dict:\n",
    "    del my_dict[remove]\n",
    "    print(f\"Removed key '{remove}' from the dictionary\")\n",
    "else:\n",
    "    print(\"Key not found. Cannot remove\")\n",
    "print(\"Updated Dictionary:\", my_dict)\n"
   ]
  },
  {
   "cell_type": "markdown",
   "id": "90315247",
   "metadata": {},
   "source": [
    "### 8.Write a program to count the frequency of characters in a user-given string using a dictionary."
   ]
  },
  {
   "cell_type": "code",
   "execution_count": 14,
   "id": "3674704c",
   "metadata": {},
   "outputs": [
    {
     "name": "stdout",
     "output_type": "stream",
     "text": [
      "Character Frequencies:\n",
      "'h': 2\n",
      "'i': 1\n",
      "' ': 3\n",
      "'o': 2\n",
      "'w': 1\n",
      "'a': 1\n",
      "'r': 1\n",
      "'e': 1\n",
      "'y': 1\n",
      "'u': 1\n"
     ]
    }
   ],
   "source": [
    "u_ip = input(\"Enter a string: \")\n",
    "frequency = {}\n",
    "for char in u_ip:\n",
    "    if char in frequency:\n",
    "        frequency[char] += 1\n",
    "    else:\n",
    "        frequency[char] = 1\n",
    "print(\"Character Frequencies:\")\n",
    "for char, freq in frequency.items():\n",
    "    print(f\"'{char}': {freq}\")\n"
   ]
  },
  {
   "cell_type": "markdown",
   "id": "57a27c13",
   "metadata": {},
   "source": [
    "### 9.Write a program to merge two dictionaries into one.\n"
   ]
  },
  {
   "cell_type": "code",
   "execution_count": 3,
   "id": "d2b3175f",
   "metadata": {},
   "outputs": [
    {
     "name": "stdout",
     "output_type": "stream",
     "text": [
      "First dictionary :  {'name': 'Adhithya', 'age': 20}\n",
      "Second dictionary :  {'city': 'Coimbatore', 'state': 'Tamil Nadu'}\n",
      "Merged Dictionary: {'name': 'Adhithya', 'age': 20, 'city': 'Coimbatore', 'state': 'Tamil Nadu'}\n"
     ]
    }
   ],
   "source": [
    "dict1 = {'name': 'Adhithya','age': 20}\n",
    "dict2 = {'city': 'Coimbatore','state': 'Tamil Nadu'}\n",
    "print(\"First dictionary : \",dict1)\n",
    "print(\"Second dictionary : \",dict2)\n",
    "merged_dict = dict1.copy()\n",
    "merged_dict.update(dict2)  \n",
    "print(\"Merged Dictionary:\", merged_dict)"
   ]
  },
  {
   "cell_type": "markdown",
   "id": "3903cfab",
   "metadata": {},
   "source": [
    "### 10.Write a program to create a dictionary with student names and marks, and print names of students who scored more than 80."
   ]
  },
  {
   "cell_type": "code",
   "execution_count": 18,
   "id": "f6d0fe3f",
   "metadata": {},
   "outputs": [
    {
     "name": "stdout",
     "output_type": "stream",
     "text": [
      "Students who scored more than 80:\n",
      "Andul\n",
      "Antony\n",
      "Dharam\n"
     ]
    }
   ],
   "source": [
    "students = {}\n",
    "n = int(input(\"Enter the number of students : \"))\n",
    "for i in range(n):\n",
    "    name = input(\"Enter student name: \")\n",
    "    marks = int(input(f\"Enter marks for {name}: \"))\n",
    "    students[name] = marks\n",
    "print(\"Students who scored more than 80:\")\n",
    "for name in students:\n",
    "    if students[name] > 80:\n",
    "        print(name)"
   ]
  }
 ],
 "metadata": {
  "kernelspec": {
   "display_name": "Python 3",
   "language": "python",
   "name": "python3"
  },
  "language_info": {
   "codemirror_mode": {
    "name": "ipython",
    "version": 3
   },
   "file_extension": ".py",
   "mimetype": "text/x-python",
   "name": "python",
   "nbconvert_exporter": "python",
   "pygments_lexer": "ipython3",
   "version": "3.12.10"
  }
 },
 "nbformat": 4,
 "nbformat_minor": 5
}
