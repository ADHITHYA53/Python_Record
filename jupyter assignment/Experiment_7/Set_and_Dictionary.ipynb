{
 "cells": [
  {
   "cell_type": "markdown",
   "id": "6f89288b",
   "metadata": {},
   "source": [
    "### 1.Write a program to create a set and perform the following operations: Add an element, remove an element, check for membership, and clear the set."
   ]
  },
  {
   "cell_type": "code",
   "execution_count": null,
   "id": "103f1a35",
   "metadata": {
    "vscode": {
     "languageId": "plaintext"
    }
   },
   "outputs": [],
   "source": []
  },
  {
   "cell_type": "markdown",
   "id": "0fc2b9eb",
   "metadata": {},
   "source": [
    "### 2.Write a program to take two sets of integers and perform the following operations: Union, intersection, difference, and symmetric difference.\n"
   ]
  },
  {
   "cell_type": "code",
   "execution_count": null,
   "id": "8907a593",
   "metadata": {
    "vscode": {
     "languageId": "plaintext"
    }
   },
   "outputs": [],
   "source": []
  },
  {
   "cell_type": "markdown",
   "id": "dc455b56",
   "metadata": {},
   "source": [
    "### 3.Write a program to count the number of unique words in a given sentence using a set."
   ]
  },
  {
   "cell_type": "code",
   "execution_count": null,
   "id": "224bdf8a",
   "metadata": {
    "vscode": {
     "languageId": "plaintext"
    }
   },
   "outputs": [],
   "source": []
  },
  {
   "cell_type": "markdown",
   "id": "818741bf",
   "metadata": {},
   "source": [
    "### 4.Write a program to create a set of even numbers from 1 to 20 using set comprehension.\n"
   ]
  },
  {
   "cell_type": "code",
   "execution_count": null,
   "id": "d08cac81",
   "metadata": {
    "vscode": {
     "languageId": "plaintext"
    }
   },
   "outputs": [],
   "source": []
  },
  {
   "cell_type": "markdown",
   "id": "4d561a08",
   "metadata": {},
   "source": [
    "### 5.Write a program to create a dictionary with names and ages of 5 people and print the dictionary.\n"
   ]
  },
  {
   "cell_type": "code",
   "execution_count": null,
   "id": "94398831",
   "metadata": {
    "vscode": {
     "languageId": "plaintext"
    }
   },
   "outputs": [],
   "source": []
  },
  {
   "cell_type": "markdown",
   "id": "2bbf057e",
   "metadata": {},
   "source": [
    "### 6.Write a program to search for a key in a dictionary and print its value if found.\n"
   ]
  },
  {
   "cell_type": "code",
   "execution_count": null,
   "id": "b135da50",
   "metadata": {
    "vscode": {
     "languageId": "plaintext"
    }
   },
   "outputs": [],
   "source": []
  },
  {
   "cell_type": "markdown",
   "id": "f70ced99",
   "metadata": {},
   "source": [
    "### 7.Write a program to update a value in a dictionary and remove a key-value pair.\n"
   ]
  },
  {
   "cell_type": "code",
   "execution_count": null,
   "id": "bd03a695",
   "metadata": {
    "vscode": {
     "languageId": "plaintext"
    }
   },
   "outputs": [],
   "source": []
  },
  {
   "cell_type": "markdown",
   "id": "90315247",
   "metadata": {},
   "source": [
    "### 8.Write a program to count the frequency of characters in a user-given string using a dictionary.\n"
   ]
  },
  {
   "cell_type": "code",
   "execution_count": null,
   "id": "3674704c",
   "metadata": {
    "vscode": {
     "languageId": "plaintext"
    }
   },
   "outputs": [],
   "source": []
  },
  {
   "cell_type": "markdown",
   "id": "57a27c13",
   "metadata": {},
   "source": [
    "### 9.Write a program to merge two dictionaries into one.\n"
   ]
  },
  {
   "cell_type": "code",
   "execution_count": null,
   "id": "d2b3175f",
   "metadata": {
    "vscode": {
     "languageId": "plaintext"
    }
   },
   "outputs": [],
   "source": []
  },
  {
   "cell_type": "markdown",
   "id": "3903cfab",
   "metadata": {},
   "source": [
    "### 10.Write a program to create a dictionary with student names and marks, and print names of students who scored more than 80."
   ]
  },
  {
   "cell_type": "code",
   "execution_count": null,
   "id": "f6d0fe3f",
   "metadata": {
    "vscode": {
     "languageId": "plaintext"
    }
   },
   "outputs": [],
   "source": []
  }
 ],
 "metadata": {
  "language_info": {
   "name": "python"
  }
 },
 "nbformat": 4,
 "nbformat_minor": 5
}
