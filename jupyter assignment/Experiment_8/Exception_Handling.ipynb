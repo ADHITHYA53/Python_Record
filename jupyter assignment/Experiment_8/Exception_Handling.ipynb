{
 "cells": [
  {
   "cell_type": "markdown",
   "id": "6d635839",
   "metadata": {},
   "source": [
    "### 1.Safe Division Calculator: You're building a simple calculator app. One of the most common issues is when a user tries to divide by zero. Write a program that takes two numbers from the user and performs division. Use try-except to handle ZeroDivisionError and display an appropriate message like \"Cannot divide by zero\".\n"
   ]
  },
  {
   "cell_type": "code",
   "execution_count": null,
   "id": "68c7183a",
   "metadata": {},
   "outputs": [],
   "source": []
  },
  {
   "cell_type": "markdown",
   "id": "a16b34f0",
   "metadata": {},
   "source": [
    "### 2.Robust List Indexing: You’re developing a student report viewer. Users may sometimes enter an invalid index to view a student’s mark. Write a program that accesses an element from a predefined list of marks using an index provided by the user. Use exception handling to catch IndexError and print \"Invalid index entered. Please try again.\"\n"
   ]
  },
  {
   "cell_type": "code",
   "execution_count": null,
   "id": "a8670c70",
   "metadata": {},
   "outputs": [],
   "source": []
  },
  {
   "cell_type": "markdown",
   "id": "32c87b55",
   "metadata": {},
   "source": [
    "### 3.Type-Safe Input for Integer Conversion: You’re building a data entry form. Sometimes users enter text when a number is expected. Write a program that takes user input and converts it to an integer. Handle ValueError using a try-except block and print \"Please enter a valid number.\" if the input is not convertible.\n"
   ]
  },
  {
   "cell_type": "code",
   "execution_count": null,
   "id": "aadc7f71",
   "metadata": {},
   "outputs": [],
   "source": []
  }
 ],
 "metadata": {
  "kernelspec": {
   "display_name": "Python 3",
   "language": "python",
   "name": "python3"
  },
  "language_info": {
   "codemirror_mode": {
    "name": "ipython",
    "version": 3
   },
   "file_extension": ".py",
   "mimetype": "text/x-python",
   "name": "python",
   "nbconvert_exporter": "python",
   "pygments_lexer": "ipython3",
   "version": "3.12.10"
  }
 },
 "nbformat": 4,
 "nbformat_minor": 5
}
