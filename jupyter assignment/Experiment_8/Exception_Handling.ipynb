{
 "cells": [
  {
   "cell_type": "markdown",
   "id": "6d635839",
   "metadata": {},
   "source": [
    "### 1.Safe Division Calculator: You're building a simple calculator app. One of the most common issues is when a user tries to divide by zero. Write a program that takes two numbers from the user and performs division. Use try-except to handle ZeroDivisionError and display an appropriate message like \"Cannot divide by zero\".\n"
   ]
  },
  {
   "cell_type": "code",
   "execution_count": null,
   "id": "68c7183a",
   "metadata": {},
   "outputs": [
    {
     "name": "stdout",
     "output_type": "stream",
     "text": [
      "Simple calculator\n",
      "Addition :  15.299999999999999\n",
      "Subtraction :  5.1\n",
      "Multiplication :  52.019999999999996\n",
      "Divsion :  2.0\n"
     ]
    }
   ],
   "source": [
    "a=float(input(\"Enter the first number : \"))\n",
    "b=float(input(\"Enter the second number : \"))\n",
    "print(\"Simple calculator\")\n",
    "print(\"Addition : \",a+b)\n",
    "print(\"Subtraction : \",a-b)\n",
    "print(\"Multiplication : \",a*b)\n",
    "try:\n",
    "    print(\"Divsion : \",a/b)\n",
    "except ZeroDivisionError:\n",
    "    print(\"Cannot divide by zero !\")   "
   ]
  },
  {
   "cell_type": "markdown",
   "id": "a16b34f0",
   "metadata": {},
   "source": [
    "### 2.Robust List Indexing: You’re developing a student report viewer. Users may sometimes enter an invalid index to view a student’s mark. Write a program that accesses an element from a predefined list of marks using an index provided by the user. Use exception handling to catch IndexError and print \"Invalid index entered. Please try again.\"\n"
   ]
  },
  {
   "cell_type": "code",
   "execution_count": 9,
   "id": "a8670c70",
   "metadata": {},
   "outputs": [
    {
     "name": "stdout",
     "output_type": "stream",
     "text": [
      "Available marks: [87, 92, 76, 81, 95]\n",
      "Invalid index entered. Please try again.\n"
     ]
    }
   ],
   "source": [
    "marks = [87, 92, 76, 81, 95]\n",
    "print(\"Available marks:\", marks)\n",
    "index = int(input(\"Enter the index to view the student's mark (0 to 4): \"))\n",
    "try:\n",
    "    print(\"Mark at index\", index, \"is:\", marks[index])\n",
    "except IndexError:\n",
    "    print(\"Invalid index entered. Please try again.\")"
   ]
  },
  {
   "cell_type": "markdown",
   "id": "32c87b55",
   "metadata": {},
   "source": [
    "### 3.Type-Safe Input for Integer Conversion: You’re building a data entry form. Sometimes users enter text when a number is expected. Write a program that takes user input and converts it to an integer. Handle ValueError using a try-except block and print \"Please enter a valid number.\" if the input is not convertible.\n"
   ]
  },
  {
   "cell_type": "code",
   "execution_count": 13,
   "id": "aadc7f71",
   "metadata": {},
   "outputs": [
    {
     "name": "stdout",
     "output_type": "stream",
     "text": [
      "Please enter a valid number.\n"
     ]
    }
   ],
   "source": [
    "user_ip = input(\"Enter a number: \")\n",
    "try:\n",
    "    number = int(user_ip)\n",
    "    print(\"You entered the number:\", number)\n",
    "except ValueError:\n",
    "    print(\"Please enter a valid number.\")\n"
   ]
  }
 ],
 "metadata": {
  "kernelspec": {
   "display_name": "Python 3",
   "language": "python",
   "name": "python3"
  },
  "language_info": {
   "codemirror_mode": {
    "name": "ipython",
    "version": 3
   },
   "file_extension": ".py",
   "mimetype": "text/x-python",
   "name": "python",
   "nbconvert_exporter": "python",
   "pygments_lexer": "ipython3",
   "version": "3.12.10"
  }
 },
 "nbformat": 4,
 "nbformat_minor": 5
}
